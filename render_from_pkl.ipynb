{
 "cells": [
  {
   "cell_type": "code",
   "execution_count": 1,
   "metadata": {},
   "outputs": [],
   "source": [
    "%load_ext autoreload\n",
    "%autoreload 2"
   ]
  },
  {
   "cell_type": "markdown",
   "metadata": {},
   "source": [
    "## Converting pickled demos to images and videos"
   ]
  },
  {
   "cell_type": "markdown",
   "metadata": {},
   "source": [
    "Alex's commit (https://github.com/qxcv/magical/commit/3c4b92b0aa68925a1ae3dd9303ea9f5ce050876f) introduced saving the objects in the environment inside the pickled demos.\n",
    "The demo structure is now \n",
    "- demo\n",
    "  - env_name\n",
    "  - trajectory\n",
    "    - acts\n",
    "    - obs\n",
    "      - ego\n",
    "      - allo\n",
    "      - geoms \n",
    "    - rews\n",
    "    - infos\n",
    "  - score\n",
    "\n",
    "With the new field \"geoms\" introduced that saves directly the Geom objects present in the environment.\n",
    "This allows to rerender the trajectory ego and allo pixels if the renderer changes.\n",
    "\n",
    "This happens in three stages:\n",
    "- we load the demos\n",
    "- we re-generate the pixels, generating new trajectories with the ego and allo observations producd using the current renderer.\n",
    "- we render images using the regenerated pixels in the new trajectories\n",
    "\n",
    "Splitting step 2 and 3 allows us to still render images from old pixel observations even if we don't have geoms saved.\n",
    "\n",
    "\n",
    "The functions used are in magical/magical/saved_trajectories.py, edit them there if you wish to save different frames etc."
   ]
  },
  {
   "cell_type": "markdown",
   "metadata": {},
   "source": [
    "## IMPORTANT:\n",
    "if you changed the rendered and want to use this notebook to re-render with your changes\n",
    "\n",
    "- make sure this repo is install in editable mode, eg ```pip3 install -e .```. This will make sure your changes are automatically included in the imported dependency. Alternatively, you will need to reinstall the repo every time you change something\n",
    "- make sure to restart the kernel for the notebook so that the import happens again!\n",
    "\n",
    "If you can't see the changes in the rendered images it's likely one of these did not happen"
   ]
  },
  {
   "cell_type": "code",
   "execution_count": 2,
   "metadata": {},
   "outputs": [
    {
     "name": "stdout",
     "output_type": "stream",
     "text": [
      "Loading chipmunk for Darwin (64bit) [/Users/elvis/anaconda3/envs/magical/lib/python3.9/site-packages/pymunk/libchipmunk.dylib]\n",
      "pygame 1.9.6\n",
      "Hello from the pygame community. https://www.pygame.org/contribute.html\n"
     ]
    }
   ],
   "source": [
    "import glob\n",
    "import os\n",
    "import magical "
   ]
  },
  {
   "cell_type": "markdown",
   "metadata": {},
   "source": [
    "## Render from old picked demos/original pixels\n",
    "Use this to render the original saved pixels without re-rendering using the current renderer."
   ]
  },
  {
   "cell_type": "code",
   "execution_count": 51,
   "metadata": {},
   "outputs": [
    {
     "name": "stdout",
     "output_type": "stream",
     "text": [
      "['FindDupe', 'PushToRedRegion']\n"
     ]
    }
   ],
   "source": [
    "# CHANGE THIS PATH TO YOUR OWN\n",
    "demos = \"/Users/elvis/desktop/magical/demo/*.pkl.gz\"\n",
    "\n",
    "# Load demos\n",
    "demo_trajs = list(magical.load_demos(glob.glob(demos)))\n",
    "\n",
    "# base names for saving frames and videos, e.g. demo-0.pkl.gz -> demo-0\n",
    "base_names = [os.path.basename(x).split('.')[0] for x in glob.glob(demos)]\n",
    "env_names = base_names = [os.path.basename(x).split('.')[1].split('-')[2] for x in glob.glob(demos)]\n",
    "print(env_names)\n",
    "# CHANGE THIS PATH TO YOUR OWN\n",
    "out_dir = \"/Users/elvis/desktop/magical/renders\"\n",
    "# save rendered pixels to disk\n",
    "magical.frames_from_rendered_pixels(demo_trajs, out_dir, traj_base_names = base_names, traj_env_names=env_names)"
   ]
  },
  {
   "cell_type": "markdown",
   "metadata": {},
   "source": [
    "## Render from geoms using current renderer\n",
    "Use this to render the original saved pixels without re-rendering using the current renderer."
   ]
  },
  {
   "cell_type": "code",
   "execution_count": 83,
   "metadata": {},
   "outputs": [],
   "source": [
    "# CHANGE THIS PATH TO YOUR OWN\n",
    "demos = \"/Users/elvis/desktop/magical/demo_11_14/*.pkl.gz\"\n",
    "\n",
    "# Load demos\n",
    "demo_trajs = list(magical.load_demos(glob.glob(demos)))\n",
    "\n",
    "# base names for saving frames and videos, e.g. demo-0.pkl.gz -> demo-0\n",
    "base_names = [os.path.basename(x).split('.')[-3] for x in glob.glob(demos)]\n",
    "env_names = [os.path.basename(x).split('.')[1].split('-')[2] for x in glob.glob(demos)]"
   ]
  },
  {
   "cell_type": "markdown",
   "metadata": {},
   "source": [
    "Render with grid and labels:"
   ]
  },
  {
   "cell_type": "code",
   "execution_count": 92,
   "metadata": {},
   "outputs": [],
   "source": [
    "# Do you want to render the grid and the labels?\n",
    "easy = True\n",
    "\n",
    "# re-render pixels for new demos\n",
    "new_demo_trajs =magical.rerender_from_geoms(demo_trajs, easy=easy)   \n",
    "# CHANGE THIS PATH TO YOUR OWN\n",
    "out_dir = \"/Users/elvis/desktop/magical/renders11_14\"\n",
    "# save rendered pixels to disk\n",
    "magical.frames_from_rendered_pixels(demo_trajs, out_dir, traj_base_names = base_names,  traj_env_names=env_names)"
   ]
  },
  {
   "cell_type": "markdown",
   "metadata": {},
   "source": [
    "![](render_from_pkl1.png)"
   ]
  },
  {
   "cell_type": "markdown",
   "metadata": {},
   "source": [
    "Now turn off grid and labels:"
   ]
  },
  {
   "cell_type": "code",
   "execution_count": 20,
   "metadata": {},
   "outputs": [
    {
     "ename": "PermissionError",
     "evalue": "[Errno 13] Permission denied: '/Users/alexandrasouly'",
     "output_type": "error",
     "traceback": [
      "\u001b[0;31m---------------------------------------------------------------------------\u001b[0m",
      "\u001b[0;31mPermissionError\u001b[0m                           Traceback (most recent call last)",
      "\u001b[1;32m/Users/elvis/Desktop/magical/render_from_pkl.ipynb Cell 14\u001b[0m line \u001b[0;36m9\n\u001b[1;32m      <a href='vscode-notebook-cell:/Users/elvis/Desktop/magical/render_from_pkl.ipynb#X16sZmlsZQ%3D%3D?line=6'>7</a>\u001b[0m out_dir \u001b[39m=\u001b[39m \u001b[39m\"\u001b[39m\u001b[39m/Users/alexandrasouly/code/chai/magical/my_demos/robot_demo/original_renders\u001b[39m\u001b[39m\"\u001b[39m\n\u001b[1;32m      <a href='vscode-notebook-cell:/Users/elvis/Desktop/magical/render_from_pkl.ipynb#X16sZmlsZQ%3D%3D?line=7'>8</a>\u001b[0m \u001b[39m# save rendered pixels to disk\u001b[39;00m\n\u001b[0;32m----> <a href='vscode-notebook-cell:/Users/elvis/Desktop/magical/render_from_pkl.ipynb#X16sZmlsZQ%3D%3D?line=8'>9</a>\u001b[0m magical\u001b[39m.\u001b[39;49mframes_from_rendered_pixels(demo_trajs, out_dir, traj_base_names \u001b[39m=\u001b[39;49m base_names)\n",
      "File \u001b[0;32m~/Desktop/magical/magical/saved_trajectories.py:239\u001b[0m, in \u001b[0;36mframes_from_rendered_pixels\u001b[0;34m(demos, output_directory, traj_base_names, name_prefix)\u001b[0m\n\u001b[1;32m    231\u001b[0m \u001b[39m\u001b[39m\u001b[39m'''\u001b[39;00m\n\u001b[1;32m    232\u001b[0m \u001b[39mProcess trajectories to get videos and first/last frames from rendered pixels.\u001b[39;00m\n\u001b[1;32m    233\u001b[0m \u001b[39mtrajectories: list of MAGICALTrajectory objects\u001b[39;00m\n\u001b[0;32m   (...)\u001b[0m\n\u001b[1;32m    236\u001b[0m \u001b[39mname_prefix: prefix to add to filenames, will be used if traj_base_names is None.\u001b[39;00m\n\u001b[1;32m    237\u001b[0m \u001b[39m'''\u001b[39;00m\n\u001b[1;32m    238\u001b[0m \u001b[39mif\u001b[39;00m \u001b[39mnot\u001b[39;00m os\u001b[39m.\u001b[39mpath\u001b[39m.\u001b[39mexists(output_directory):\n\u001b[0;32m--> 239\u001b[0m     os\u001b[39m.\u001b[39;49mmakedirs(output_directory)\n\u001b[1;32m    240\u001b[0m \u001b[39mif\u001b[39;00m traj_base_names:\n\u001b[1;32m    241\u001b[0m     \u001b[39massert\u001b[39;00m \u001b[39mlen\u001b[39m(demos) \u001b[39m==\u001b[39m \u001b[39mlen\u001b[39m(traj_base_names)\n",
      "File \u001b[0;32m~/anaconda3/envs/magical/lib/python3.9/os.py:215\u001b[0m, in \u001b[0;36mmakedirs\u001b[0;34m(name, mode, exist_ok)\u001b[0m\n\u001b[1;32m    213\u001b[0m \u001b[39mif\u001b[39;00m head \u001b[39mand\u001b[39;00m tail \u001b[39mand\u001b[39;00m \u001b[39mnot\u001b[39;00m path\u001b[39m.\u001b[39mexists(head):\n\u001b[1;32m    214\u001b[0m     \u001b[39mtry\u001b[39;00m:\n\u001b[0;32m--> 215\u001b[0m         makedirs(head, exist_ok\u001b[39m=\u001b[39;49mexist_ok)\n\u001b[1;32m    216\u001b[0m     \u001b[39mexcept\u001b[39;00m \u001b[39mFileExistsError\u001b[39;00m:\n\u001b[1;32m    217\u001b[0m         \u001b[39m# Defeats race condition when another thread created the path\u001b[39;00m\n\u001b[1;32m    218\u001b[0m         \u001b[39mpass\u001b[39;00m\n",
      "File \u001b[0;32m~/anaconda3/envs/magical/lib/python3.9/os.py:215\u001b[0m, in \u001b[0;36mmakedirs\u001b[0;34m(name, mode, exist_ok)\u001b[0m\n\u001b[1;32m    213\u001b[0m \u001b[39mif\u001b[39;00m head \u001b[39mand\u001b[39;00m tail \u001b[39mand\u001b[39;00m \u001b[39mnot\u001b[39;00m path\u001b[39m.\u001b[39mexists(head):\n\u001b[1;32m    214\u001b[0m     \u001b[39mtry\u001b[39;00m:\n\u001b[0;32m--> 215\u001b[0m         makedirs(head, exist_ok\u001b[39m=\u001b[39;49mexist_ok)\n\u001b[1;32m    216\u001b[0m     \u001b[39mexcept\u001b[39;00m \u001b[39mFileExistsError\u001b[39;00m:\n\u001b[1;32m    217\u001b[0m         \u001b[39m# Defeats race condition when another thread created the path\u001b[39;00m\n\u001b[1;32m    218\u001b[0m         \u001b[39mpass\u001b[39;00m\n",
      "    \u001b[0;31m[... skipping similar frames: makedirs at line 215 (3 times)]\u001b[0m\n",
      "File \u001b[0;32m~/anaconda3/envs/magical/lib/python3.9/os.py:215\u001b[0m, in \u001b[0;36mmakedirs\u001b[0;34m(name, mode, exist_ok)\u001b[0m\n\u001b[1;32m    213\u001b[0m \u001b[39mif\u001b[39;00m head \u001b[39mand\u001b[39;00m tail \u001b[39mand\u001b[39;00m \u001b[39mnot\u001b[39;00m path\u001b[39m.\u001b[39mexists(head):\n\u001b[1;32m    214\u001b[0m     \u001b[39mtry\u001b[39;00m:\n\u001b[0;32m--> 215\u001b[0m         makedirs(head, exist_ok\u001b[39m=\u001b[39;49mexist_ok)\n\u001b[1;32m    216\u001b[0m     \u001b[39mexcept\u001b[39;00m \u001b[39mFileExistsError\u001b[39;00m:\n\u001b[1;32m    217\u001b[0m         \u001b[39m# Defeats race condition when another thread created the path\u001b[39;00m\n\u001b[1;32m    218\u001b[0m         \u001b[39mpass\u001b[39;00m\n",
      "File \u001b[0;32m~/anaconda3/envs/magical/lib/python3.9/os.py:225\u001b[0m, in \u001b[0;36mmakedirs\u001b[0;34m(name, mode, exist_ok)\u001b[0m\n\u001b[1;32m    223\u001b[0m         \u001b[39mreturn\u001b[39;00m\n\u001b[1;32m    224\u001b[0m \u001b[39mtry\u001b[39;00m:\n\u001b[0;32m--> 225\u001b[0m     mkdir(name, mode)\n\u001b[1;32m    226\u001b[0m \u001b[39mexcept\u001b[39;00m \u001b[39mOSError\u001b[39;00m:\n\u001b[1;32m    227\u001b[0m     \u001b[39m# Cannot rely on checking for EEXIST, since the operating system\u001b[39;00m\n\u001b[1;32m    228\u001b[0m     \u001b[39m# could give priority to other errors like EACCES or EROFS\u001b[39;00m\n\u001b[1;32m    229\u001b[0m     \u001b[39mif\u001b[39;00m \u001b[39mnot\u001b[39;00m exist_ok \u001b[39mor\u001b[39;00m \u001b[39mnot\u001b[39;00m path\u001b[39m.\u001b[39misdir(name):\n",
      "\u001b[0;31mPermissionError\u001b[0m: [Errno 13] Permission denied: '/Users/alexandrasouly'"
     ]
    }
   ],
   "source": [
    "# Do you want to render the grid and the labels?\n",
    "easy = False\n",
    "\n",
    "# re-render pixels for new demos\n",
    "new_demo_trajs =magical.rerender_from_geoms(demo_trajs, easy=easy)   \n",
    "# CHANGE THIS PATH TO YOUR OWN\n",
    "out_dir = \"/Users/alexandrasouly/code/chai/magical/my_demos/robot_demo/original_renders\"\n",
    "# save rendered pixels to disk\n",
    "magical.frames_from_rendered_pixels(demo_trajs, out_dir, traj_base_names = base_names)"
   ]
  },
  {
   "cell_type": "markdown",
   "metadata": {},
   "source": [
    "![](render_from_pkl2.png)"
   ]
  }
 ],
 "metadata": {
  "kernelspec": {
   "display_name": "chai2",
   "language": "python",
   "name": "python3"
  },
  "language_info": {
   "codemirror_mode": {
    "name": "ipython",
    "version": 3
   },
   "file_extension": ".py",
   "mimetype": "text/x-python",
   "name": "python",
   "nbconvert_exporter": "python",
   "pygments_lexer": "ipython3",
   "version": "3.9.18"
  }
 },
 "nbformat": 4,
 "nbformat_minor": 2
}
