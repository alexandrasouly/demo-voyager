{
 "cells": [
  {
   "cell_type": "markdown",
   "metadata": {},
   "source": [
    "## Converting pickled demos to images and videos"
   ]
  },
  {
   "cell_type": "markdown",
   "metadata": {},
   "source": [
    "Alex's commit () introduced saving the objects in the environment inside the pickled demos.\n",
    "The demo structure is now \n",
    "- demo\n",
    "  - env_name\n",
    "  - trajectory\n",
    "    - acts\n",
    "    - obs\n",
    "      - ego\n",
    "      - allo\n",
    "      - geoms \n",
    "    - rews\n",
    "    - infos\n",
    "  - score\n",
    "\n",
    "With the new field \"geoms\" introduced that saves directly the Geom objects present in the environment.\n",
    "This allows to rerender the trajectory ego and allo pixels if the renderer changes.\n",
    "\n",
    "This happens in three stages:\n",
    "- we load the demos\n",
    "- we re-generate the pixels, generating new trajectories with the ego and allo observations producd using the current renderer.\n",
    "- we render images using the regenerated pixels in the new trajectories\n",
    "\n",
    "Splitting step 2 and 3 allows us to still render images from old pixel observations even if we don't have geoms saved.\n",
    "\n",
    "\n",
    "The functions used are in magical/magical/saved_trajectories.py, edit them there if you wish to save different frames etc."
   ]
  },
  {
   "cell_type": "markdown",
   "metadata": {},
   "source": [
    "## IMPORTANT:\n",
    "if you changed the rendered and want to use this notebook to re-render with your changes\n",
    "\n",
    "- make sure this repo is install in editable mode, eg ```pip3 install -e .```. This will make sure your changes are automatically included in the imported dependency. Alternatively, you will need to reinstall the repo every time you change something\n",
    "- make sure to restart the kernel for the notebook so that the import happens again!\n",
    "\n",
    "If you can't see the changes in the rendered images it's likely one of these did not happen"
   ]
  },
  {
   "cell_type": "code",
   "execution_count": 1,
   "metadata": {},
   "outputs": [],
   "source": [
    "import glob\n",
    "import os\n",
    "from magical import load_demos, rerender_from_geoms, frames_from_rendered_pixels"
   ]
  },
  {
   "cell_type": "markdown",
   "metadata": {},
   "source": [
    "## Render from old picked demos/original pixels\n",
    "Use this to render the original saved pixels without re-rendering using the current renderer."
   ]
  },
  {
   "cell_type": "code",
   "execution_count": 1,
   "metadata": {},
   "outputs": [
    {
     "name": "stdout",
     "output_type": "stream",
     "text": [
      "pygame 1.9.6\n",
      "Hello from the pygame community. https://www.pygame.org/contribute.html\n",
      "Loading chipmunk for Darwin (64bit) [/Users/alexandrasouly/.virtualenvs/chai3/lib/python3.9/site-packages/pymunk/libchipmunk.dylib]\n"
     ]
    }
   ],
   "source": [
    "# CHANGE THIS PATH TO YOUR OWN\n",
    "# demos = \"/Users/alexandrasouly/code/chai/magical/my_demos/alex_geoms/demo-*.pkl.gz\"\n",
    "\n",
    "# Load demos\n",
    "demo_trajs = list(load_demos(glob.glob(demos)))\n",
    "\n",
    "# base names for saving frames and videos, e.g. demo-0.pkl.gz -> demo-0\n",
    "base_names = [os.path.basename(x).split('.')[0] for x in glob.glob(demos)]\n",
    "\n",
    "# CHANGE THIS PATH TO YOUR OWN\n",
    "# out_dir = \"/Users/alexandrasouly/code/chai/magical/my_demos/alex_geoms/renders\"\n",
    "# save rendered pixels to disk\n",
    "frames_from_rendered_pixels(demo_trajs, out_dir, traj_base_names = base_names)"
   ]
  },
  {
   "cell_type": "markdown",
   "metadata": {},
   "source": [
    "## Render from geoms using current renderer\n",
    "Use this to render the original saved pixels without re-rendering using the current renderer."
   ]
  },
  {
   "cell_type": "code",
   "execution_count": 2,
   "metadata": {},
   "outputs": [
    {
     "name": "stdout",
     "output_type": "stream",
     "text": [
      "pygame 1.9.6\n",
      "Hello from the pygame community. https://www.pygame.org/contribute.html\n",
      "Loading chipmunk for Darwin (64bit) [/Users/alexandrasouly/.virtualenvs/chai3/lib/python3.9/site-packages/pymunk/libchipmunk.dylib]\n"
     ]
    }
   ],
   "source": [
    "# CHANGE THIS PATH TO YOUR OWN\n",
    "#demos = \"/Users/alexandrasouly/code/chai/magical/my_demos/alex_geoms/demo-*.pkl.gz\"\n",
    "\n",
    "# Load demos\n",
    "demo_trajs = list(load_demos(glob.glob(demos)))\n",
    "\n",
    "# base names for saving frames and videos, e.g. demo-0.pkl.gz -> demo-0\n",
    "base_names = [os.path.basename(x).split('.')[0] for x in glob.glob(demos)]\n",
    "\n",
    "# re-render pixels for new demos\n",
    "demo_trajs =rerender_from_geoms(demo_trajs)\n",
    "\n",
    "# CHANGE THIS PATH TO YOUR OWN\n",
    "#out_dir = \"/Users/alexandrasouly/code/chai/magical/my_demos/alex_geoms/renders\"\n",
    "\n",
    "# save rendered pixels to disk\n",
    "frames_from_rendered_pixels(demo_trajs, out_dir, traj_base_names = base_names)"
   ]
  }
 ],
 "metadata": {
  "kernelspec": {
   "display_name": "chai2",
   "language": "python",
   "name": "python3"
  },
  "language_info": {
   "codemirror_mode": {
    "name": "ipython",
    "version": 3
   },
   "file_extension": ".py",
   "mimetype": "text/x-python",
   "name": "python",
   "nbconvert_exporter": "python",
   "pygments_lexer": "ipython3",
   "version": "3.9.18"
  }
 },
 "nbformat": 4,
 "nbformat_minor": 2
}
