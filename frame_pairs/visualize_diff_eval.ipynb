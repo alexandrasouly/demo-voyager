{
 "cells": [
  {
   "cell_type": "code",
   "execution_count": null,
   "id": "04b08abe-5d87-40f3-9d82-4215bee445ae",
   "metadata": {},
   "outputs": [],
   "source": [
    "import os\n",
    "\n",
    "valid = False\n",
    "while not valid:\n",
    "    load_path = input(\"Please enter path to .json file to load\")\n",
    "    if os.path.exists(load_path):\n",
    "        valid = True\n",
    "        print(f\"Will load '{load_path}'\")\n",
    "        break\n",
    "    else:\n",
    "        print(f\"The supplied path '{load_path}' could not be found on disk, please try again\")"
   ]
  },
  {
   "cell_type": "code",
   "execution_count": null,
   "id": "e3a7915c-873c-4cfa-a3c0-5b02505c77c6",
   "metadata": {},
   "outputs": [],
   "source": [
    "import json\n",
    "import base64\n",
    "from PIL import Image\n",
    "from io import BytesIO\n",
    "import matplotlib.pyplot as plt\n",
    "\n",
    "def decode_base64_image(base64_str):\n",
    "    \"\"\"Decode a base64-encoded image and return a PIL Image.\"\"\"\n",
    "    image_data = base64.b64decode(base64_str)\n",
    "    return Image.open(BytesIO(image_data))\n",
    "\n",
    "def concatenate_images(images, border_width=10):\n",
    "    \"\"\"Concatenate a list of PIL Images horizontally with black borders between them.\"\"\"\n",
    "    widths, heights = zip(*(i.size for i in images))\n",
    "    total_width = sum(widths) + border_width * (len(images) - 1)\n",
    "    max_height = max(heights)\n",
    "\n",
    "    new_im = Image.new('RGB', (total_width, max_height))\n",
    "\n",
    "    x_offset = 0\n",
    "    for im in images:\n",
    "        new_im.paste(im, (x_offset, 0))\n",
    "        x_offset += im.size[0] + border_width\n",
    "\n",
    "    return new_im\n",
    "\n",
    "def process_json_file(filepath):\n",
    "    \"\"\"Load JSON file, concatenate images and display them.\"\"\"\n",
    "    with open(filepath, 'r') as file:\n",
    "        data = json.load(file)\n",
    "\n",
    "    # Decode images\n",
    "    images = []\n",
    "    for message in data.get(\"messages\", []):\n",
    "        if message.get(\"type\") == \"image_url\":\n",
    "            image_url = message.get(\"image_url\", {}).get(\"url\", \"\")\n",
    "            if image_url.startswith(\"data:image/jpeg;base64,\"):\n",
    "                base64_image = image_url.split(\"base64,\")[-1]\n",
    "                images.append(decode_base64_image(base64_image))\n",
    "\n",
    "    # Concatenate and display images\n",
    "    if images:\n",
    "        concatenated_image = concatenate_images(images)\n",
    "        plt.imshow(concatenated_image)\n",
    "        plt.axis('off')\n",
    "        plt.show()\n",
    "\n",
    "    # Print subgoals\n",
    "    subgoals = data.get(\"parsed_goals\", {}).get(\"subgoals\", [])\n",
    "    print(\"Subgoals:\")\n",
    "    for subgoal in subgoals:\n",
    "        print(subgoal)\n",
    "\n",
    "# Example usage\n",
    "# process_json_file(\"path_to_your_json_file.json\")"
   ]
  },
  {
   "cell_type": "code",
   "execution_count": null,
   "id": "977683cb-9c61-4d6d-9102-006696bfbf99",
   "metadata": {},
   "outputs": [],
   "source": [
    "process_json_file(load_path)"
   ]
  },
  {
   "cell_type": "code",
   "execution_count": null,
   "id": "34a34bc1-8ce3-4d42-a9e3-4a80cc260b42",
   "metadata": {},
   "outputs": [],
   "source": [
    "more_load_paths = [\n",
    "    \"/home/sam/repos/demo-voyager/frame_pairs/quick_eval/Task1_10-frame-pairs__pair1__2023-12-06T23:18:53.json\",\n",
    "    \"/home/sam/repos/demo-voyager/frame_pairs/quick_eval/Task1_10-frame-pairs__pair2__2023-12-06T23:17:59.json\",\n",
    "    \"/home/sam/repos/demo-voyager/frame_pairs/quick_eval/Task1_10-frame-pairs__pair3__2023-12-06T23:17:59.json\",\n",
    "    \"/home/sam/repos/demo-voyager/frame_pairs/quick_eval/Task1_10-frame-pairs__pair4__2023-12-06T23:18:37.json\",\n",
    "    \"/home/sam/repos/demo-voyager/frame_pairs/quick_eval/Task1_10-frame-pairs__pair5__2023-12-06T23:18:43.json\",\n",
    "    \"/home/sam/repos/demo-voyager/frame_pairs/quick_eval/Task1_10-frame-pairs__pair6__2023-12-06T23:17:59.json\",\n",
    "    \"/home/sam/repos/demo-voyager/frame_pairs/quick_eval/Task1_10-frame-pairs__pair7__2023-12-06T23:18:30.json\",\n",
    "    \"/home/sam/repos/demo-voyager/frame_pairs/quick_eval/Task1_10-frame-pairs__pair8__2023-12-06T23:17:59.json\",\n",
    "    \"/home/sam/repos/demo-voyager/frame_pairs/quick_eval/Task1_10-frame-pairs__pair9__2023-12-06T23:18:07.json\",\n",
    "    \"/home/sam/repos/demo-voyager/frame_pairs/quick_eval/Task1_10-frame-pairs__pair10__2023-12-06T23:18:19.json\",\n",
    "]\n",
    "for lp in more_load_paths:\n",
    "    print('-' * 100)\n",
    "    print(lp)\n",
    "    process_json_file(lp)"
   ]
  },
  {
   "cell_type": "code",
   "execution_count": null,
   "id": "a569cbfc-e5e0-4f22-ba64-a63799e4f125",
   "metadata": {},
   "outputs": [],
   "source": []
  }
 ],
 "metadata": {
  "kernelspec": {
   "display_name": "Python 3 (ipykernel)",
   "language": "python",
   "name": "python3"
  },
  "language_info": {
   "codemirror_mode": {
    "name": "ipython",
    "version": 3
   },
   "file_extension": ".py",
   "mimetype": "text/x-python",
   "name": "python",
   "nbconvert_exporter": "python",
   "pygments_lexer": "ipython3",
   "version": "3.8.18"
  }
 },
 "nbformat": 4,
 "nbformat_minor": 5
}
