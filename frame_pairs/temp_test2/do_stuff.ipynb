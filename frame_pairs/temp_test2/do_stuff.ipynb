{
 "cells": [
  {
   "cell_type": "code",
   "execution_count": 2,
   "metadata": {},
   "outputs": [],
   "source": [
    "file = '/Users/alexandrasouly/code/chai/demo-voyager/frame_pairs/temp_test2/test.json'\n",
    "import json\n",
    "with open(file) as f:\n",
    "    data = json.load(f)\n",
    "for k,entry in data.items():\n",
    "    entry[\"human_eval_similarity\"] = \"\"\n",
    "with open(file, 'w') as f:\n",
    "    json.dump(data, f, indent=4)\n",
    "\n",
    " \n"
   ]
  },
  {
   "cell_type": "code",
   "execution_count": 8,
   "metadata": {},
   "outputs": [
    {
     "name": "stdout",
     "output_type": "stream",
     "text": [
      "True positives: 55, 0.4583333333333333\n",
      "True negatives: 48, 0.4\n",
      "False positives: 3, 0.025\n",
      "False negatives: 14,  0.11666666666666667\n"
     ]
    }
   ],
   "source": [
    "file = '/Users/alexandrasouly/code/chai/demo-voyager/frame_pairs/temp_test2/test.json'\n",
    "import json\n",
    "with open(file) as f:\n",
    "    data = json.load(f)\n",
    "\n",
    "false_neg = 0\n",
    "false_pos = 0\n",
    "true_pos = 0\n",
    "true_neg = 0\n",
    "false_pos_list = []\n",
    "false_neg_list = []\n",
    "for k,entry in data.items():\n",
    "    human = entry[\"human_eval_similarity\"]\n",
    "    agent = entry[\"similarity\"]\n",
    "    if agent not in [\"Correct\", \"Incorrect\", \"Unknown\"]:\n",
    "        raise Exception(f\"Agent similarity not in correct format:{k}\")\n",
    "    if human not in [\"Correct\", \"Incorrect\", \"Unknown\"]:\n",
    "        raise Exception(f\"Human similarity not in correct format:{k}\")\n",
    "    if human == \"Correct\":\n",
    "        if agent == \"Correct\":\n",
    "            true_pos += 1\n",
    "        else:\n",
    "            false_neg_list.append((k,entry))\n",
    "            false_neg += 1\n",
    "    elif human == \"Incorrect\":\n",
    "        if agent == \"Incorrect\":\n",
    "            true_neg += 1\n",
    "        else:\n",
    "            false_pos_list.append((k,entry))\n",
    "            false_pos += 1\n",
    "# print confusion matrix\n",
    "print(f\"True positives: {true_pos}, {true_pos/len(data)}\")\n",
    "print(f\"True negatives: {true_neg}, {true_neg/len(data)}\")\n",
    "print(f\"False positives: {false_pos}, {false_pos/len(data)}\")\n",
    "print(f\"False negatives: {false_neg},  {false_neg/len(data)}\")\n",
    "\n",
    "\n"
   ]
  },
  {
   "cell_type": "code",
   "execution_count": 10,
   "metadata": {},
   "outputs": [
    {
     "name": "stdout",
     "output_type": "stream",
     "text": [
      "False positives (agent thought correct, but not):\n",
      "/Users/alexandrasouly/code/chai/magical/frame_pairs/Task1/10-frame-pairs/pair2\n",
      "Truths:\n",
      "['Move the green triangle block B1 to the top left corner.', 'Move to top left with block B1', 'Push block B1 (green triangle) half way to the top left', 'Move block B1 to the top-left corner.']\n",
      "Preds:\n",
      "None of the above. The correct subgoal would be: Move R and B1 upwards towards the top of the arena.\n",
      "/Users/alexandrasouly/code/chai/magical/frame_pairs/Task1/40-frame-pairs/pair9\n",
      "Truths:\n",
      "['Move the green square block B1 to the top left corner.', 'Move to bottom and pick up block B1 and move to top left with block B1', 'Grasp B1 and move it to the top left', 'Move block B1 to the top-left corner of the arena.']\n",
      "Preds:\n",
      "Move to the top of the arena while holding block B1.\n",
      "/Users/alexandrasouly/code/chai/magical/frame_pairs/Task1/80-frame-pairs/pair1\n",
      "Truths:\n",
      "['Move the green square block B1 to the top left corner.', 'Move to bottom and pick up block B1 and move to top left with block B1 and place block B1 on top left ', 'Move B1 to the top left corner then move yourself back slightly', 'Place block B1 in the top-left corner of the arena.']\n",
      "Preds:\n",
      "Move B1 to the top of the arena.\n"
     ]
    }
   ],
   "source": [
    "# print false positives\n",
    "print(\"False positives (agent thought correct, but not):\")\n",
    "\n",
    "for k,entry in false_pos_list:\n",
    "    print(k,)\n",
    "    print(\"Truths:\")\n",
    "    print(entry[\"ground_truths\"])\n",
    "    print(\"Preds:\")\n",
    "    print(entry[\"prediction\"])"
   ]
  },
  {
   "cell_type": "markdown",
   "metadata": {},
   "source": [
    "Why these mistakes happened:\n",
    "- 1. it thought top is good enough for top left, because one of the ground truths said halfway to top left. Arguable, not a huge error.\n",
    "- 2. okay same error, will need to specify this.\n",
    "- 3. same error\n",
    "\n",
    "\n",
    "- All of these can be fixed by specifying top left is not the same as top.\n"
   ]
  },
  {
   "cell_type": "code",
   "execution_count": 11,
   "metadata": {},
   "outputs": [
    {
     "name": "stdout",
     "output_type": "stream",
     "text": [
      "False negatives (agent thought incorrect, but correct):\n",
      "/Users/alexandrasouly/code/chai/magical/frame_pairs/Task1/20-frame-pairs/pair1\n",
      "Truths:\n",
      "['Grab the green square block B1.', 'Move to bottom and place block B1', \"Grasp B1 and then spin around so that you're facing upwards\", 'Move to block B1 and pick it up.']\n",
      "Preds:\n",
      "Pick up B1.\n",
      "/Users/alexandrasouly/code/chai/magical/frame_pairs/Task1/20-frame-pairs/pair6\n",
      "Truths:\n",
      "['Move the blue square block B1 towards the top left corner.', 'Move to top left with block B1', \"Spin around to face up and a little bit to the left while grasping B1, then push B1 forward so that it's about two thirds of the way to the top of the arena\", 'Move block B1 to the top-left corner.']\n",
      "Preds:\n",
      "Move B1 slightly upward within the central area of the arena.\n",
      "/Users/alexandrasouly/code/chai/magical/frame_pairs/Task1/20-frame-pairs/pair9\n",
      "Truths:\n",
      "['Release the green square block B1 in the top left corner.', 'Move to top left with block B1', 'Release B1', 'Release block B1.']\n",
      "Preds:\n",
      "Maintain current position with block B1.\n",
      "/Users/alexandrasouly/code/chai/magical/frame_pairs/Task1/20-frame-pairs/pair2\n",
      "Truths:\n",
      "['Move the green triangle block B1 towards the top left corner.', 'Move to top left with block B1', 'Push B1 all the way into the top left corner', 'Move block B1 to the top-left corner of the arena.']\n",
      "Preds:\n",
      "SUBGOAL: Move R and B1 to the top left of the arena.\n",
      "/Users/alexandrasouly/code/chai/magical/frame_pairs/Task1/20-frame-pairs/pair10\n",
      "Truths:\n",
      "['Grab the blue square block B1.', 'Move to bottom and pick up block B1', 'Grab B1 then spin around to face towards the top left', 'Move block B1 to the center of the arena.']\n",
      "Preds:\n",
      "Pick up B1.\n",
      "/Users/alexandrasouly/code/chai/magical/frame_pairs/Task1/40-frame-pairs/pair4\n",
      "Truths:\n",
      "['Grab the blue square block B1 and move it towards the bottom.', 'Move to bottom and pick up block B1', 'Grab B1 and then push it along the bottom edge to the left of the screen', 'Move block B1 to the bottom-left corner of the arena.']\n",
      "Preds:\n",
      "SUBGOAL: Move R to B1 and pick up B1.\n",
      "/Users/alexandrasouly/code/chai/magical/frame_pairs/Task2/10-frame-pairs/pair1\n",
      "Truths:\n",
      "['Move the robot towards the green circle block B4.', 'Move towards block B4 and pick up block B4', \"Push B4 forward a bit, so that it's right up against the boundary of SA1\", 'Push block B4 further down.']\n",
      "Preds:\n",
      "Pick up B4.\n",
      "/Users/alexandrasouly/code/chai/magical/frame_pairs/Task2/10-frame-pairs/pair7\n",
      "Truths:\n",
      "['Back away from the block B1 in the special area SA1.', 'Move towards special area SA1 with block B1 and place it in the special area', 'Leave B1 in SA1 and move half way back towards the left edge of the screen', 'Move away from special area SA1.']\n",
      "Preds:\n",
      "Move R to the left of SA1.\n",
      "/Users/alexandrasouly/code/chai/magical/frame_pairs/Task2/50-frame-pairs/pair6\n",
      "Truths:\n",
      "['Move pink square B3 inside special ara SA1.', 'Move to special area SA1 with block B3 and place it into special area', 'Push B3 into SA1, then move back to the left edge of the arena', 'Move block B2 inside special area SA1.']\n",
      "Preds:\n",
      "Place B3 inside SA1.\n",
      "/Users/alexandrasouly/code/chai/magical/frame_pairs/Task2/50-frame-pairs/pair2\n",
      "Truths:\n",
      "['Move green circle B2 to inside special area SA2 and move blue circle B3 downwards.', 'Move to bottom left to pick up block B2 and move to special area SA1 with block B2 and place it into special area', 'Push B3 to the bottom of the environment, then push B2 into SA1', 'Move ball B2 to special area SA1.']\n",
      "Preds:\n",
      "Move B2 to SA1.\n",
      "/Users/alexandrasouly/code/chai/magical/frame_pairs/Task2/100-frame-pairs/pair4\n",
      "Truths:\n",
      "['Move blue circle B1 and B2 inside special area SA1 and grab blue circle B4.', 'Pick up blocks B1 and B2, and put them into special area SA1', 'Push B1 and B2 into SA1, then grab B4 and push it down half way to SA1', 'Move balls B1 and B2 to special area SA1, and pick up ball B4.']\n",
      "Preds:\n",
      "Move B4 to the middle left of the arena and place B1 and B2 into SA1.\n",
      "/Users/alexandrasouly/code/chai/magical/frame_pairs/Task3/10-frame-pairs/pair10\n",
      "Truths:\n",
      "['Turn the robot a bit towards blue circle B1.', 'Move to bottom and turn toward the block B1', 'Rotate right until you are nudging B1 slightly', 'Turn slightly to the right.']\n",
      "Preds:\n",
      "SUBGOAL: The robot is moving to pick up block B1.\n",
      "/Users/alexandrasouly/code/chai/magical/frame_pairs/Task3/180-frame-pairs/pair7\n",
      "Truths:\n",
      "['Push block B1, B2, B3, B4 and B5 into pink special area SA2 so that all blocks are in SA2', 'Place the blocks B1, and B2 into special area SA3', 'Push all blocks into SA2', 'Put all the blocks inside special area SA3.']\n",
      "Preds:\n",
      "Gather all blocks into SA2.\n",
      "/Users/alexandrasouly/code/chai/magical/frame_pairs/Task3/180-frame-pairs/pair5\n",
      "Truths:\n",
      "['Move blocks B1 and B2 into SA3.', 'Place the blocks B1, and B2 into special area SA3', 'Push all blocks into SA3', 'Put both blocks inside special area SA3.']\n",
      "Preds:\n",
      "Move B1 and B2 to SA3.\n"
     ]
    }
   ],
   "source": [
    "# print false negatives\n",
    "print(\"False negatives (agent thought incorrect, but correct):\")\n",
    "for k,entry in false_neg_list:\n",
    "    print(k,)\n",
    "    print(\"Truths:\")\n",
    "    print(entry[\"ground_truths\"])\n",
    "    print(\"Preds:\")\n",
    "    print(entry[\"prediction\"])"
   ]
  },
  {
   "cell_type": "markdown",
   "metadata": {},
   "source": [
    "- 1. Didn't get that pick up was enough. Although one of the labels was wrong\n",
    "- 2. Was actually hard to tell without looking at pic, fair enough\n",
    "- 3. Maintain position vs release, kinda hard to tell fair enough\n",
    "- 4. Doesn't understand that the robot is moving the block\n",
    "- 5. Didint' get that picking up was enough\n",
    "- 6. Doesn't understadn robot is doing the picking up\n",
    "- 7. Didn't get that picking up was enough\n",
    "- 8. fair enough\n",
    "- 9. bad ground truth label was confusing\n",
    "- 10. bad label was confusing\n",
    "- 11. fair enough\n",
    "- 12. didn't get that the agent is going towards a block to pick it up \n",
    "- 13. bad labels\n",
    "- 14. bad labels"
   ]
  },
  {
   "cell_type": "markdown",
   "metadata": {},
   "source": [
    "- Maybe specify grab and pick up are the same thing?\n",
    "- And that if one of the ground truth says pick up only, then predicting pick up only is fine.\n",
    "- specify that move R and B1 is the same as moving B1, because the R is moving it\n",
    "- the robot is usually moving towards a block to pick it up\n",
    "- Maybe go trough the subgoals and check if they match one by one. to fix the pick up issue.\n",
    "\n",
    "This would fix 10/14 errors which is pretty good"
   ]
  },
  {
   "cell_type": "markdown",
   "metadata": {},
   "source": []
  },
  {
   "cell_type": "markdown",
   "metadata": {},
   "source": [
    "# New prompts:"
   ]
  },
  {
   "cell_type": "markdown",
   "metadata": {},
   "source": [
    "- get new prompt\n",
    "- eval with it (careful not to overwrite stuff!!!!)\n",
    "- add your predictions\n",
    "- check how you are doing now, hopefully all good"
   ]
  },
  {
   "cell_type": "code",
   "execution_count": null,
   "metadata": {},
   "outputs": [],
   "source": []
  },
  {
   "cell_type": "markdown",
   "metadata": {},
   "source": []
  }
 ],
 "metadata": {
  "kernelspec": {
   "display_name": "chai2",
   "language": "python",
   "name": "python3"
  },
  "language_info": {
   "codemirror_mode": {
    "name": "ipython",
    "version": 3
   },
   "file_extension": ".py",
   "mimetype": "text/x-python",
   "name": "python",
   "nbconvert_exporter": "python",
   "pygments_lexer": "ipython3",
   "version": "3.11.6"
  }
 },
 "nbformat": 4,
 "nbformat_minor": 2
}
